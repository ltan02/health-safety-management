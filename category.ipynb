{
  "nbformat": 4,
  "nbformat_minor": 0,
  "metadata": {
    "colab": {
      "provenance": []
    },
    "kernelspec": {
      "name": "python3",
      "display_name": "Python 3"
    },
    "language_info": {
      "name": "python"
    }
  },
  "cells": [
    {
      "cell_type": "code",
      "execution_count": 1,
      "metadata": {
        "id": "M7rYTyKBv_0h"
      },
      "outputs": [],
      "source": [
        "from google.colab import auth as google_auth\n",
        "google_auth.authenticate_user()"
      ]
    },
    {
      "cell_type": "code",
      "source": [
        "from google.cloud import aiplatform\n",
        "aiplatform.init(project=\"pwc-project-b3778\", location=\"us-central1\")"
      ],
      "metadata": {
        "id": "W_L6vmBuwJ4T"
      },
      "execution_count": 2,
      "outputs": []
    },
    {
      "cell_type": "code",
      "source": [
        "from vertexai.preview.language_models import TextGenerationModel, TextEmbeddingModel\n",
        "model = TextGenerationModel.from_pretrained(\"text-bison@001\")"
      ],
      "metadata": {
        "id": "P19bvaZkwPPA"
      },
      "execution_count": 3,
      "outputs": []
    },
    {
      "cell_type": "code",
      "source": [
        "categories = [\"fire\", \"electric\", \"poison\", \"mental\", \"water\", \"employee\"]\n",
        "incident = \"two people fought over who has more project responsibility\"\n",
        "prompt = \"Classifiy the following incident - \" + incident + \" into one of the following categories - \" + str(categories) + \". Return only the category, nothing else.\""
      ],
      "metadata": {
        "id": "iH-v58Rd0jub"
      },
      "execution_count": 4,
      "outputs": []
    },
    {
      "cell_type": "code",
      "source": [
        "def text_summarization_example(temperature=.1):\n",
        "\n",
        "    response = model.predict(\n",
        "        prompt,\n",
        "        temperature=temperature,\n",
        "        max_output_tokens=256,\n",
        "        top_k=40,\n",
        "        top_p=.95,\n",
        "    )\n",
        "    print(f\"Response from Model: {response.text}\")"
      ],
      "metadata": {
        "id": "n4yGI3bQwT7x"
      },
      "execution_count": 5,
      "outputs": []
    },
    {
      "cell_type": "code",
      "source": [
        "text_summarization_example()"
      ],
      "metadata": {
        "colab": {
          "base_uri": "https://localhost:8080/"
        },
        "id": "elFhVVk2wZUD",
        "outputId": "d97da7b1-9d8c-41f7-ffa2-97f956b1ea6e"
      },
      "execution_count": 6,
      "outputs": [
        {
          "output_type": "stream",
          "name": "stdout",
          "text": [
            "Response from Model: employee\n"
          ]
        }
      ]
    }
  ]
}